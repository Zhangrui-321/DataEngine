{
 "cells": [
  {
   "cell_type": "code",
   "execution_count": 1,
   "metadata": {
    "ExecuteTime": {
     "end_time": "2021-03-18T14:28:33.045765Z",
     "start_time": "2021-03-18T14:28:32.970049Z"
    }
   },
   "outputs": [],
   "source": [
    "import requests\n",
    "from bs4 import BeautifulSoup"
   ]
  },
  {
   "cell_type": "code",
   "execution_count": 2,
   "metadata": {
    "ExecuteTime": {
     "end_time": "2021-03-18T14:29:06.725404Z",
     "start_time": "2021-03-18T14:28:50.658534Z"
    }
   },
   "outputs": [
    {
     "name": "stderr",
     "output_type": "stream",
     "text": [
      "/Users/kidwishzhu/opt/anaconda3/lib/python3.8/site-packages/bs4/__init__.py:221: UserWarning: You provided Unicode markup but also provided a value for from_encoding. Your from_encoding will be ignored.\n",
      "  warnings.warn(\"You provided Unicode markup but also provided a value for from_encoding. Your from_encoding will be ignored.\")\n"
     ]
    }
   ],
   "source": [
    "url = 'http://www.12365auto.com/zlts/0-0-0-0-0-0_0-0-0-0-0-0-0-1.shtml'\n",
    "# 得到页面的内容\n",
    "headers={'user-agent': 'Mozilla/5.0 (Windows NT 10.0; WOW64) AppleWebKit/537.36 (KHTML, like Gecko) Chrome/74.0.3729.131 Safari/537.36'}\n",
    "html=requests.get(url,headers=headers,timeout=10)\n",
    "content = html.text\n",
    "# 通过content创建BeautifulSoup对象\n",
    "soup = BeautifulSoup(content, 'html.parser', from_encoding='utf-8')\n"
   ]
  },
  {
   "cell_type": "code",
   "execution_count": 3,
   "metadata": {
    "ExecuteTime": {
     "end_time": "2021-03-18T14:29:14.810865Z",
     "start_time": "2021-03-18T14:29:14.805249Z"
    }
   },
   "outputs": [
    {
     "name": "stdout",
     "output_type": "stream",
     "text": [
      "<title>汽车质量投诉 - 车质网</title>\n",
      "title\n",
      "汽车质量投诉 - 车质网\n"
     ]
    }
   ],
   "source": [
    "#输出第一个 title 标签\n",
    "print(soup.title)\n",
    "#输出第一个 title 标签的标签名称\n",
    "print(soup.title.name)\n",
    "#输出第一个 title 标签的包含内容\n",
    "print(soup.title.string)\n"
   ]
  },
  {
   "cell_type": "code",
   "execution_count": 6,
   "metadata": {
    "ExecuteTime": {
     "end_time": "2021-03-18T14:32:20.276866Z",
     "start_time": "2021-03-18T14:32:20.257427Z"
    }
   },
   "outputs": [
    {
     "name": "stdout",
     "output_type": "stream",
     "text": [
      "<title>汽车质量投诉 - 车质网</title>\n",
      "title\n",
      "汽车质量投诉 - 车质网\n",
      "head\n",
      "<p class=\"lxwm\">\n",
      "<a href=\"http://www.12365auto.com/copyright.shtml\" target=\"_blank\">版权声明</a>|<a href=\"http://www.12365auto.com/about.shtml\" target=\"_blank\">关于我们</a>|<a href=\"http://www.12365auto.com/contact.shtml\" target=\"_blank\">联系我们</a>|<a href=\"http://www.12365auto.com/job.shtml\" target=\"_blank\">诚聘英才</a>|<a href=\"http://www.12365auto.com/links.shtml\" target=\"_blank\">友情链接</a>|<a href=\"http://www.12365auto.com/bug\" target=\"_blank\">意见反馈</a></p>\n",
      "['lxwm']\n",
      "http://www.12365auto.com\n",
      "<a href=\"http://www.baidu.com/\" name=\"百度\">\n",
      "<img src=\"/x_images/logo.jpg\"/></a>\n",
      "<a href=\"http://www.baidu.com/\" name=\"百度\">\n",
      "<img src=\"/x_images/logo.jpg\"/></a>\n"
     ]
    }
   ],
   "source": [
    "#输出第一个 title 标签\n",
    "print(soup.title)\n",
    "#输出第一个 title 标签的标签名称\n",
    "print(soup.title.name)\n",
    "#输出第一个 title 标签的包含内容\n",
    "print(soup.title.string)\n",
    "#输出第一个 title 标签的父标签的标签名称\n",
    "print(soup.title.parent.name)\n",
    " \n",
    "\n",
    "#输出第一个p标签\n",
    "print(soup.p)\n",
    " #输出第一个  p 标签的 class 属性内容\n",
    "print(soup.p['class'])\n",
    " \n",
    "#输出第一个  a 标签的  href 属性内容\n",
    "print(soup.a['href'])\n",
    "# soup的属性操作方法与字典一样，可以被添加,删除或修改. \n",
    "# 修改第一个 a 标签的href属性为 http://www.baidu.com/\n",
    "soup.a['href'] = 'http://www.baidu.com/'\n",
    "#给第一个 a 标签添加 name 属性\n",
    "soup.a['name'] = u'百度'\n",
    "print(soup.a)\n",
    "#删除第一个 a 标签的 class 属性为\n",
    "del soup.a['class']\n",
    "print(soup.a)\n",
    "\n"
   ]
  },
  {
   "cell_type": "code",
   "execution_count": 9,
   "metadata": {
    "ExecuteTime": {
     "end_time": "2021-03-18T14:36:49.256580Z",
     "start_time": "2021-03-18T14:36:48.851724Z"
    }
   },
   "outputs": [],
   "source": [
    "# 对汽车投诉信息进行数据预处理\n",
    "import pandas as pd\n",
    "\n",
    "# 分析type的内容，拆分成 年份, 发动机, 变速器（手动/自动），其他\n",
    "def analyze(type):\n",
    "\t# 一般第一个为年份\n",
    "\t#year = type[0]\n",
    "\tyear, engine, transmission, other = '', '', '', ''\n",
    "\tengine_list = ['1.2T', '1.4T', '1.4L', '1.4TSI', '1.5L', '1.5T', '1.5TD', '1.6L', '1.6T', '1.6THP', '1.8L', '1.8T', '1.8TD', '1.8TSI', '2.0L', '2.0T', '2.4L', '2.5L', '2.5T', '14T', '20T', '30T', '230TSI', '350T', '280TSI', '260T', '300T', '300TGI', '330TSI', '350THP', '350T', 'TSI280', '400TGI']\n",
    "\tfor i in type:\n",
    "\t\t# 如果最后一个字为款，为年份\n",
    "\t\tif type.index(i)==0 and i[-1:] == '款':\n",
    "\t\t\tyear = i[:-1]\n",
    "\t\t\tcontinue\n",
    "\t\tif i == '手动' or i == '自动':\n",
    "\t\t\ttransmission = i\n",
    "\t\t\tcontinue\n",
    "\t\tif i in engine_list: \n",
    "\t\t\tengine = i\n",
    "\t\t\tcontinue\n",
    "\t\tother = other + ' ' + i\n",
    "\treturn year, engine, transmission, other\n",
    "\n",
    "\n",
    "# 数据加载\n",
    "result = pd.read_csv('car_complain.csv')\n",
    "result['type_year'] = ''\n",
    "result['type_engine'] = ''\n",
    "result['type_transmission'] = ''\n",
    "result['type_other'] = ''\n",
    "\n",
    "# 分析type字段，拆分多个字段\n",
    "for i, row in result.iterrows():\n",
    "\tyear, engine, transmission, other = analyze(row['type'].split(' '))\n",
    "\tresult.loc[i, 'type_year'] = year\n",
    "\tresult.loc[i, 'type_engine'] = engine\n",
    "\tresult.loc[i, 'type_transmission'] = transmission\n",
    "\tresult.loc[i, 'type_other'] = other\n",
    "\t#print(year, engine, transmission, other)\n",
    "# 删除列\n",
    "result = result.drop(columns=['type'], axis=1)\n",
    "result.to_csv('car_complain_data_clean.csv', index=False)\n"
   ]
  },
  {
   "cell_type": "code",
   "execution_count": null,
   "metadata": {},
   "outputs": [],
   "source": []
  }
 ],
 "metadata": {
  "kernelspec": {
   "display_name": "Python 3",
   "language": "python",
   "name": "python3"
  },
  "language_info": {
   "codemirror_mode": {
    "name": "ipython",
    "version": 3
   },
   "file_extension": ".py",
   "mimetype": "text/x-python",
   "name": "python",
   "nbconvert_exporter": "python",
   "pygments_lexer": "ipython3",
   "version": "3.8.5"
  },
  "toc": {
   "base_numbering": 1,
   "nav_menu": {},
   "number_sections": true,
   "sideBar": true,
   "skip_h1_title": false,
   "title_cell": "Table of Contents",
   "title_sidebar": "Contents",
   "toc_cell": false,
   "toc_position": {},
   "toc_section_display": true,
   "toc_window_display": false
  },
  "varInspector": {
   "cols": {
    "lenName": 16,
    "lenType": 16,
    "lenVar": 40
   },
   "kernels_config": {
    "python": {
     "delete_cmd_postfix": "",
     "delete_cmd_prefix": "del ",
     "library": "var_list.py",
     "varRefreshCmd": "print(var_dic_list())"
    },
    "r": {
     "delete_cmd_postfix": ") ",
     "delete_cmd_prefix": "rm(",
     "library": "var_list.r",
     "varRefreshCmd": "cat(var_dic_list()) "
    }
   },
   "types_to_exclude": [
    "module",
    "function",
    "builtin_function_or_method",
    "instance",
    "_Feature"
   ],
   "window_display": false
  }
 },
 "nbformat": 4,
 "nbformat_minor": 4
}
