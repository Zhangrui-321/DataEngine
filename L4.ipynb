{
 "cells": [
  {
   "cell_type": "code",
   "execution_count": 1,
   "metadata": {
    "ExecuteTime": {
     "end_time": "2021-03-18T11:02:47.604452Z",
     "start_time": "2021-03-18T11:02:47.362025Z"
    }
   },
   "outputs": [],
   "source": [
    "import pandas as pd\n",
    "from efficient_apriori import apriori\n",
    "data = pd.read_csv('./Market_Basket_Optimisation.csv', header = None)"
   ]
  },
  {
   "cell_type": "code",
   "execution_count": 86,
   "metadata": {
    "ExecuteTime": {
     "end_time": "2021-03-18T14:11:11.355248Z",
     "start_time": "2021-03-18T14:11:11.349728Z"
    }
   },
   "outputs": [
    {
     "data": {
      "text/plain": [
       "(7501, 20)"
      ]
     },
     "execution_count": 86,
     "metadata": {},
     "output_type": "execute_result"
    }
   ],
   "source": [
    "data.head()\n",
    "data.shape"
   ]
  },
  {
   "cell_type": "code",
   "execution_count": 96,
   "metadata": {
    "ExecuteTime": {
     "end_time": "2021-03-18T14:15:44.820490Z",
     "start_time": "2021-03-18T14:15:44.122798Z"
    }
   },
   "outputs": [
    {
     "name": "stdout",
     "output_type": "stream",
     "text": [
      "[{'frozen smoothie', 'green tea', 'cottage cheese', 'salad', 'shrimp', 'spinach', 'honey', 'energy drink', 'salmon', 'mineral water', 'tomato juice', 'low fat yogurt', 'whole weat flour', 'antioxydant juice', 'green grapes', 'yams', 'vegetables mix', 'almonds', 'olive oil', 'avocado'}, {'burgers', 'meatballs', 'eggs'}, {'chutney'}, {'turkey', 'avocado'}, {'mineral water', 'green tea', 'whole wheat rice', 'milk', 'energy bar'}]\n"
     ]
    }
   ],
   "source": [
    "transactions=[]\n",
    "for i in range(0,7501):\n",
    "    a=data.iloc[i].dropna()\n",
    "    a=set(a)\n",
    "    #print(a)\n",
    "    transactions.append(a)\n",
    "print(transactions[0:5])"
   ]
  },
  {
   "cell_type": "code",
   "execution_count": 102,
   "metadata": {
    "ExecuteTime": {
     "end_time": "2021-03-18T14:17:35.809888Z",
     "start_time": "2021-03-18T14:17:35.167490Z"
    },
    "scrolled": true
   },
   "outputs": [
    {
     "data": {
      "text/plain": [
       "{1: {('frozen smoothie',): 475,\n",
       "  ('mineral water',): 1788,\n",
       "  ('green tea',): 991,\n",
       "  ('tomato juice',): 228,\n",
       "  ('low fat yogurt',): 574,\n",
       "  ('cottage cheese',): 239,\n",
       "  ('shrimp',): 536,\n",
       "  ('olive oil',): 494,\n",
       "  ('vegetables mix',): 193,\n",
       "  ('honey',): 356,\n",
       "  ('almonds',): 153,\n",
       "  ('energy drink',): 200,\n",
       "  ('salmon',): 319,\n",
       "  ('avocado',): 250,\n",
       "  ('burgers',): 654,\n",
       "  ('meatballs',): 157,\n",
       "  ('eggs',): 1348,\n",
       "  ('turkey',): 469,\n",
       "  ('whole wheat rice',): 439,\n",
       "  ('milk',): 972,\n",
       "  ('energy bar',): 203,\n",
       "  ('whole wheat pasta',): 221,\n",
       "  ('french fries',): 1282,\n",
       "  ('soup',): 379,\n",
       "  ('spaghetti',): 1306,\n",
       "  ('frozen vegetables',): 715,\n",
       "  ('cookies',): 603,\n",
       "  ('cooking oil',): 383,\n",
       "  ('champagne',): 351,\n",
       "  ('chicken',): 450,\n",
       "  ('oil',): 173,\n",
       "  ('chocolate',): 1229,\n",
       "  ('tomatoes',): 513,\n",
       "  ('fresh tuna',): 167,\n",
       "  ('pepper',): 199,\n",
       "  ('red wine',): 211,\n",
       "  ('ham',): 199,\n",
       "  ('pancakes',): 713,\n",
       "  ('grated cheese',): 393,\n",
       "  ('fresh bread',): 323,\n",
       "  ('ground beef',): 737,\n",
       "  ('escalope',): 595,\n",
       "  ('herb & pepper',): 371,\n",
       "  ('strawberries',): 160,\n",
       "  ('cake',): 608,\n",
       "  ('hot dogs',): 243,\n",
       "  ('brownies',): 253,\n",
       "  ('cereals',): 193,\n",
       "  ('muffins',): 181,\n",
       "  ('light mayo',): 204,\n",
       "  ('yogurt cake',): 205,\n",
       "  ('butter',): 226,\n",
       "  ('french wine',): 169},\n",
       " 2: {('frozen smoothie', 'mineral water'): 152,\n",
       "  ('green tea', 'mineral water'): 233,\n",
       "  ('low fat yogurt', 'mineral water'): 180,\n",
       "  ('mineral water', 'olive oil'): 207,\n",
       "  ('mineral water', 'shrimp'): 177,\n",
       "  ('burgers', 'eggs'): 216,\n",
       "  ('milk', 'mineral water'): 360,\n",
       "  ('mineral water', 'whole wheat rice'): 151,\n",
       "  ('frozen vegetables', 'spaghetti'): 209,\n",
       "  ('green tea', 'spaghetti'): 199,\n",
       "  ('burgers', 'mineral water'): 183,\n",
       "  ('cooking oil', 'mineral water'): 151,\n",
       "  ('eggs', 'mineral water'): 382,\n",
       "  ('chicken', 'mineral water'): 171,\n",
       "  ('eggs', 'spaghetti'): 274,\n",
       "  ('mineral water', 'spaghetti'): 448,\n",
       "  ('mineral water', 'tomatoes'): 183,\n",
       "  ('spaghetti', 'tomatoes'): 157,\n",
       "  ('french fries', 'milk'): 178,\n",
       "  ('chocolate', 'eggs'): 249,\n",
       "  ('mineral water', 'pancakes'): 253,\n",
       "  ('pancakes', 'spaghetti'): 189,\n",
       "  ('milk', 'spaghetti'): 266,\n",
       "  ('ground beef', 'milk'): 165,\n",
       "  ('ground beef', 'mineral water'): 307,\n",
       "  ('ground beef', 'spaghetti'): 294,\n",
       "  ('chocolate', 'french fries'): 258,\n",
       "  ('chocolate', 'mineral water'): 395,\n",
       "  ('eggs', 'french fries'): 273,\n",
       "  ('french fries', 'mineral water'): 253,\n",
       "  ('frozen vegetables', 'mineral water'): 268,\n",
       "  ('chocolate', 'frozen vegetables'): 172,\n",
       "  ('cake', 'mineral water'): 206,\n",
       "  ('french fries', 'green tea'): 214,\n",
       "  ('french fries', 'pancakes'): 151,\n",
       "  ('chocolate', 'green tea'): 176,\n",
       "  ('chocolate', 'spaghetti'): 294,\n",
       "  ('chocolate', 'ground beef'): 173,\n",
       "  ('chocolate', 'milk'): 241,\n",
       "  ('frozen vegetables', 'milk'): 177,\n",
       "  ('mineral water', 'soup'): 173,\n",
       "  ('olive oil', 'spaghetti'): 172,\n",
       "  ('burgers', 'french fries'): 165,\n",
       "  ('burgers', 'spaghetti'): 161,\n",
       "  ('french fries', 'spaghetti'): 207,\n",
       "  ('shrimp', 'spaghetti'): 159,\n",
       "  ('eggs', 'green tea'): 191,\n",
       "  ('eggs', 'milk'): 231,\n",
       "  ('eggs', 'pancakes'): 163,\n",
       "  ('eggs', 'frozen vegetables'): 163}}"
      ]
     },
     "execution_count": 102,
     "metadata": {},
     "output_type": "execute_result"
    }
   ],
   "source": [
    "itemsets, rules = apriori(transactions, min_support=0.02,  min_confidence=0.4)\n",
    "#频繁项集\n",
    "itemsets\n"
   ]
  },
  {
   "cell_type": "code",
   "execution_count": 103,
   "metadata": {
    "ExecuteTime": {
     "end_time": "2021-03-18T14:17:37.900519Z",
     "start_time": "2021-03-18T14:17:37.895505Z"
    }
   },
   "outputs": [
    {
     "data": {
      "text/plain": [
       "[{olive oil} -> {mineral water},\n",
       " {ground beef} -> {mineral water},\n",
       " {soup} -> {mineral water}]"
      ]
     },
     "execution_count": 103,
     "metadata": {},
     "output_type": "execute_result"
    }
   ],
   "source": [
    "#关联规则\n",
    "rules"
   ]
  },
  {
   "cell_type": "code",
   "execution_count": null,
   "metadata": {},
   "outputs": [],
   "source": []
  }
 ],
 "metadata": {
  "kernelspec": {
   "display_name": "Python 3",
   "language": "python",
   "name": "python3"
  },
  "language_info": {
   "codemirror_mode": {
    "name": "ipython",
    "version": 3
   },
   "file_extension": ".py",
   "mimetype": "text/x-python",
   "name": "python",
   "nbconvert_exporter": "python",
   "pygments_lexer": "ipython3",
   "version": "3.8.5"
  },
  "toc": {
   "base_numbering": 1,
   "nav_menu": {},
   "number_sections": true,
   "sideBar": true,
   "skip_h1_title": false,
   "title_cell": "Table of Contents",
   "title_sidebar": "Contents",
   "toc_cell": false,
   "toc_position": {},
   "toc_section_display": true,
   "toc_window_display": false
  },
  "varInspector": {
   "cols": {
    "lenName": 16,
    "lenType": 16,
    "lenVar": 40
   },
   "kernels_config": {
    "python": {
     "delete_cmd_postfix": "",
     "delete_cmd_prefix": "del ",
     "library": "var_list.py",
     "varRefreshCmd": "print(var_dic_list())"
    },
    "r": {
     "delete_cmd_postfix": ") ",
     "delete_cmd_prefix": "rm(",
     "library": "var_list.r",
     "varRefreshCmd": "cat(var_dic_list()) "
    }
   },
   "types_to_exclude": [
    "module",
    "function",
    "builtin_function_or_method",
    "instance",
    "_Feature"
   ],
   "window_display": false
  }
 },
 "nbformat": 4,
 "nbformat_minor": 4
}
